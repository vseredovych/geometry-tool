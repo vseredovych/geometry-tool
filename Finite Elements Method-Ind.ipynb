{
 "cells": [
  {
   "cell_type": "code",
   "execution_count": 1,
   "metadata": {},
   "outputs": [],
   "source": [
    "import matplotlib.pyplot as plt\n",
    "import matplotlib.tri as mtri\n",
    "import numpy as np\n",
    "import numpy.linalg as LA"
   ]
  },
  {
   "cell_type": "code",
   "execution_count": 2,
   "metadata": {},
   "outputs": [],
   "source": [
    "from algorithms.meshforrectangle import MeshForRectangle"
   ]
  },
  {
   "cell_type": "code",
   "execution_count": 3,
   "metadata": {},
   "outputs": [],
   "source": [
    "w = 1\n",
    "h = 2\n",
    "rectangle = [[0,0],[0,h],[w,h],[w,0]]\n",
    "rectangle_area = h * w\n",
    "\n",
    "f = lambda x, y: 2\n",
    "a11 = 4\n",
    "a22 = 7\n",
    "d = 1\n",
    "\n",
    "\n",
    "beta = 1e-10\n",
    "sigma = 1e+10\n",
    "psi = 0"
   ]
  },
  {
   "cell_type": "code",
   "execution_count": 4,
   "metadata": {},
   "outputs": [],
   "source": [
    "nx = 8\n",
    "ny = 16\n",
    "mesher = MeshForRectangle(nx, ny)\n",
    "triangulation = list(map(lambda t: t.get_points(), mesher.triangulate(rectangle)))"
   ]
  },
  {
   "cell_type": "code",
   "execution_count": 5,
   "metadata": {},
   "outputs": [],
   "source": [
    "points = np.unique(np.concatenate(triangulation), axis=0).tolist()\n",
    "triangles = list(map(lambda tri: [points.index(tri[0]),\n",
    "                                  points.index(tri[1]),\n",
    "                                  points.index(tri[2]),], triangulation))"
   ]
  },
  {
   "cell_type": "code",
   "execution_count": 6,
   "metadata": {},
   "outputs": [],
   "source": [
    "n =  len(triangles)\n",
    "triangle_area = rectangle_area / n\n",
    "s = triangle_area\n",
    "\n",
    "def K_i(b, c, s, a11, a22):\n",
    "    K = np.zeros([3, 3])\n",
    "    for i in range(3):\n",
    "        for j in range(3):\n",
    "            K[i][j] = (a11 * (b[i] * b[j]) + a22 * (c[i] * c[j]))\n",
    "\n",
    "    K = K / (2 * 2 * s)\n",
    "    return K\n",
    "\n",
    "\n",
    "def fill_A_with_K_i(A, K, tri):\n",
    "    for i in range(3):\n",
    "        for j in range(3):\n",
    "            A[tri[i]][tri[j]] += K[i][j]  \n",
    "    \n",
    "def fill_A_with_M_i(A, M, tri, d):\n",
    "    for i in range(3):\n",
    "        for j in range(3):\n",
    "            A[tri[i]][tri[j]] += d * M[i][j]   \n",
    "            \n",
    "def fill_F_with_phi_i(F, tri, points, M):\n",
    "    Qe = np.zeros(3);\n",
    "    Me = np.sum(M,axis=1)\n",
    "    for i in range(3):\n",
    "        Qe[i] = -Me[i] * f(*points[tri[i]])\n",
    "\n",
    "    for i in range(3):\n",
    "        F[tri[i]] += Qe[i]\n"
   ]
  },
  {
   "cell_type": "code",
   "execution_count": 7,
   "metadata": {},
   "outputs": [],
   "source": [
    "G = h / ny\n",
    "\n",
    "Re = (sigma*G)/(6*beta) * np.array([[2, 1], [1, 2]])\n",
    "Pe = (psi*G)/(2*beta) * np.array([1, 1])\n",
    "Me = (s)/(12) * np.array([[2, 1, 1], [1, 2, 1], [1, 1, 2]])\n",
    "\n",
    "a = np.zeros([n, 3])\n",
    "b = np.zeros([n, 3])\n",
    "c = np.zeros([n, 3])\n",
    "phi = np.zeros([n, 3])\n",
    "\n",
    "A = np.zeros([len(points), len(points)])\n",
    "F = np.zeros([len(points), 1])\n",
    "not_boundary = []\n",
    "\n",
    "for i, tri in enumerate(triangles):\n",
    "    \n",
    "    p1 = points[tri[0]]\n",
    "    p2 = points[tri[1]] \n",
    "    p3 = points[tri[2]]\n",
    "    \n",
    "    boundary_points = np.array([])\n",
    "    if sum(np.array([p1[0], p2[0], p3[0]]).round(5) == 0) == 2:\n",
    "        l = np.array([p1, p2, p3])\n",
    "        boundary_points = l[l[:, 0] == 0]\n",
    "    elif sum(np.array([p1[0], p2[0], p3[0]]).round(5) == w) == 2:\n",
    "        l = np.array([p1, p2, p3])\n",
    "        boundary_points = l[l[:, 0] == w]        \n",
    "    elif sum(np.array([p1[1], p2[1], p3[1]]).round(5) == 0) == 2:\n",
    "        l = np.array([p1, p2, p3])\n",
    "        boundary_points = l[l[:, 1] == 0]\n",
    "    elif sum(np.array([p1[1], p2[1], p3[1]]).round(5) == h) == 2:\n",
    "        l = np.array([p1, p2, p3])\n",
    "        boundary_points = l[l[:, 1] == h]\n",
    "\n",
    "    if boundary_points.size:\n",
    "\n",
    "        boundary_points = boundary_points.tolist()\n",
    "        if p2 not in boundary_points:\n",
    "            boundary_points.reverse()\n",
    "\n",
    "        A[points.index(boundary_points[0])][points.index(boundary_points[0])] += Re[0][0]\n",
    "        A[points.index(boundary_points[0])][points.index(boundary_points[1])] += Re[0][1]\n",
    "        A[points.index(boundary_points[1])][points.index(boundary_points[0])] += Re[1][0]\n",
    "        A[points.index(boundary_points[1])][points.index(boundary_points[1])] += Re[1][1]\n",
    "        \n",
    "        F[points.index(boundary_points[0])] += Pe[0]\n",
    "        F[points.index(boundary_points[1])] += Pe[1]   \n",
    "\n",
    "    groups = [\n",
    "        (p2, p3, _), (p3, p1, _), (p1, p2, _)\n",
    "    ]\n",
    "    \n",
    "    for j, group in enumerate(groups):\n",
    "        t1 = group[0]\n",
    "        t2 = group[1]\n",
    "        \n",
    "        b[i][j] = t2[1] - t1[1]\n",
    "        c[i][j] = t2[0] - t1[0]\n",
    "        \n",
    "    K = K_i(b[i], c[i], s, a11, a22)\n",
    "    fill_A_with_K_i(A, K, tri)\n",
    "    fill_A_with_M_i(A, Me, tri, d)\n",
    "    fill_F_with_phi_i(F, tri, points, Me)"
   ]
  },
  {
   "cell_type": "code",
   "execution_count": 31,
   "metadata": {},
   "outputs": [
    {
     "data": {
      "text/plain": [
       "array([[0.875, 1.875],\n",
       "       [1.   , 1.875],\n",
       "       [1.   , 2.   ]])"
      ]
     },
     "execution_count": 31,
     "metadata": {},
     "output_type": "execute_result"
    }
   ],
   "source": [
    "b = LA.solve(A, F)\n",
    "l"
   ]
  },
  {
   "cell_type": "code",
   "execution_count": 9,
   "metadata": {},
   "outputs": [
    {
     "data": {
      "image/png": "[encoded data removed]",
      "text/plain": [
       "<Figure size 720x720 with 2 Axes>"
      ]
     },
     "metadata": {
      "needs_background": "light"
     },
     "output_type": "display_data"
    }
   ],
   "source": [
    "x, y = [l.ravel() for l in np.split(points, [-1], axis=1)]\n",
    "\n",
    "triang = mtri.Triangulation(x, y, triangles)\n",
    "\n",
    "# Interpolate to regularly-spaced quad grid.\n",
    "z = b.ravel()\n",
    "\n",
    "# Set up the figure\n",
    "fig, ax = plt.subplots(figsize=(10,10))\n",
    "\n",
    "plt.xlim(0, h)\n",
    "plt.ylim(0, h)\n",
    "\n",
    "# Plot the triangulation.\n",
    "cp = ax.tricontourf(triang, z)\n",
    "fig.colorbar(cp)\n",
    "\n",
    "ax.set_title('Triangular grid')\n",
    "\n",
    "\n",
    "fig.tight_layout()\n",
    "plt.show()"
   ]
  },
  {
   "cell_type": "code",
   "execution_count": null,
   "metadata": {},
   "outputs": [],
   "source": []
  },
  {
   "cell_type": "code",
   "execution_count": 10,
   "metadata": {},
   "outputs": [],
   "source": [
    "# for coef in [0, 0.1, 0.57, 0.81]:\n",
    "#     show_success(coef)\n",
    "\n",
    "# mesh = range(len(b))\n",
    "\n",
    "# fig, ax = plt.subplots(figsize=(10,10))\n",
    "# ax.plot(mesh, ex, 'blue')\n",
    "# ax.plot(mesh, b, 'red')"
   ]
  }
 ],
 "metadata": {
  "kernelspec": {
   "display_name": "Python 3",
   "language": "python",
   "name": "python3"
  },
  "language_info": {
   "codemirror_mode": {
    "name": "ipython",
    "version": 3
   },
   "file_extension": ".py",
   "mimetype": "text/x-python",
   "name": "python",
   "nbconvert_exporter": "python",
   "pygments_lexer": "ipython3",
   "version": "3.8.2"
  }
 },
 "nbformat": 4,
 "nbformat_minor": 4
}
