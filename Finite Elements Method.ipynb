{
 "cells": [
  {
   "cell_type": "code",
   "execution_count": 1,
   "metadata": {},
   "outputs": [],
   "source": [
    "import matplotlib.pyplot as plt\n",
    "import matplotlib.tri as mtri\n",
    "import numpy as np\n",
    "import numpy.linalg as LA"
   ]
  },
  {
   "cell_type": "code",
   "execution_count": 2,
   "metadata": {},
   "outputs": [],
   "source": [
    "from algorithms.meshforrectangle import MeshForRectangle"
   ]
  },
  {
   "cell_type": "code",
   "execution_count": 3,
   "metadata": {},
   "outputs": [],
   "source": [
    "w = 1\n",
    "h = 2\n",
    "rectangle = [[0,0],[0,h],[w,h],[w,0]]\n",
    "rectangle_area = h*w\n",
    "\n",
    "u = lambda x, y: (x - 1)**2 * (y - 2)**2 *x*y\n",
    "a11 = 1\n",
    "a22 = 1\n",
    "\n",
    "f = lambda x, y: 2 * x * (x - 1)**2 * (3*y - 4) + 2*(3*x - 2)*(y - 2)**2 * y\n",
    "\n",
    "beta = 1e-5\n",
    "omega = 1e+5\n",
    "psi = 0"
   ]
  },
  {
   "cell_type": "markdown",
   "metadata": {},
   "source": [
    "$$\n",
    "Input interpretation:\n",
    "\\frac{\\partial^{2}\\left((x-1)^{2}(y-2)^{2} x y\\right)}{\\partial x^{2}}+\\frac{\\partial^{2}\\left((x-1)^{2}(y-2)^{2} x y\\right)}{\\partial y^{2}}\n",
    "$$\n",
    "$$\n",
    "Result:\n",
    "2 x(x-1)^{2}(3 y-4)+2(3 x-2)(y-2)^{2} y\n",
    "$$\n",
    "\n",
    "\n",
    "---\n",
    "##### (d^2/dx^2  (x - 1)^2 * (y - 2)^2) + (d^2/dy^2 (x - 1)^2 * (y - 2)^2) )"
   ]
  },
  {
   "cell_type": "code",
   "execution_count": 4,
   "metadata": {},
   "outputs": [],
   "source": [
    "nx = 10\n",
    "ny = 20\n",
    "mesher = MeshForRectangle(nx, ny)\n",
    "triangulation = list(map(lambda t: t.get_points(), mesher.triangulate(rectangle)))"
   ]
  },
  {
   "cell_type": "code",
   "execution_count": 5,
   "metadata": {},
   "outputs": [],
   "source": [
    "points = np.unique(np.concatenate(triangulation), axis=0).tolist()\n",
    "triangles = list(map(lambda tri: [points.index(tri[0]),\n",
    "                                  points.index(tri[1]),\n",
    "                                  points.index(tri[2]),], triangulation))"
   ]
  },
  {
   "cell_type": "code",
   "execution_count": null,
   "metadata": {},
   "outputs": [],
   "source": [
    "x, y = [l.ravel() for l in np.split(points, [-1], axis=1)]\n",
    "\n",
    "triang = mtri.Triangulation(x, y, triangles)\n",
    "\n",
    "# Interpolate to regularly-spaced quad grid.\n",
    "z = u(x,y)\n",
    "\n",
    "# Set up the figure\n",
    "fig, ax = plt.subplots(figsize=(10,10))\n",
    "\n",
    "plt.xlim(0, h)\n",
    "plt.ylim(0, h)\n",
    "\n",
    "# Plot the triangulation.\n",
    "ax.tricontourf(triang, z)\n",
    "ax.triplot(triang, 'ko-')\n",
    "ax.set_title('Triangular grid')\n",
    "\n",
    "fig.tight_layout()\n",
    "plt.show()"
   ]
  },
  {
   "cell_type": "code",
   "execution_count": null,
   "metadata": {},
   "outputs": [],
   "source": [
    "n =  len(triangles)\n",
    "triangle_area = rectangle_area / n\n",
    "s = triangle_area\n",
    "\n",
    "def K_i(b, c, s, a11, a22):\n",
    "    K = np.zeros([3, 3])\n",
    "    for i in range(3):\n",
    "        for j in range(3):\n",
    "            K[i][j] = (a11 * (b[i] * b[j]) + a22 * (c[i] * c[j]))\n",
    "\n",
    "    K = K / (4 * s)\n",
    "    return K\n",
    "\n",
    "\n",
    "def fill_A_with_K_i(A, K, tri):\n",
    "    for i in range(3):\n",
    "        for j in range(3):\n",
    "            A[tri[i]][tri[j]] += K[i][j]\n",
    "            \n",
    "def fill_F_with_phi_i(F, tri, points=points, Me=[]):\n",
    "    Qe = Me.dot(\n",
    "        np.array([ [ f(*points[tri[0]]) ], [ f(*points[tri[1]]) ], [ f(*points[tri[2]]) ]])\n",
    "    )\n",
    "\n",
    "    for i in range(3):\n",
    "        F[tri[i]] += Qe[i][0]\n"
   ]
  },
  {
   "cell_type": "code",
   "execution_count": null,
   "metadata": {},
   "outputs": [],
   "source": [
    "G = h / ny\n",
    "\n",
    "Re = (omega*G)/(6*beta) * np.array([[2, 1], [1, 2]])\n",
    "Pe = (psi*G)/(2*beta) * np.array([1, 1])\n",
    "Me = -((s)/(14)) * np.array([[2, 1, 1], [1, 2, 1], [1, 1, 2]])\n",
    "\n",
    "a = np.zeros([n, 3])\n",
    "b = np.zeros([n, 3])\n",
    "c = np.zeros([n, 3])\n",
    "phi = np.zeros([n, 3])\n",
    "\n",
    "A = np.zeros([len(points), len(points)])\n",
    "F = np.zeros([len(points), 1])\n",
    "\n",
    "for i, tri in enumerate(triangles):\n",
    "    \n",
    "    p1 = points[tri[0]]\n",
    "    p2 = points[tri[1]] \n",
    "    p3 = points[tri[2]]\n",
    "    \n",
    "    boundary_points = np.array([])\n",
    "    if sum(np.array([p1[0], p2[0], p3[0]]).round(5) == 0) == 2:\n",
    "        l = np.array([p1, p2, p3])\n",
    "        boundary_points = l[l[:, 0] == 0]\n",
    "    elif sum(np.array([p1[0], p2[0], p3[0]]).round(5) == w) == 2:\n",
    "        l = np.array([p1, p2, p3])\n",
    "        boundary_points = l[l[:, 0] == w]        \n",
    "    elif sum(np.array([p1[1], p2[1], p3[1]]).round(5) == 0) == 2:\n",
    "        l = np.array([p1, p2, p3])\n",
    "        boundary_points = l[l[:, 1] == 0]\n",
    "    elif sum(np.array([p1[1], p2[1], p3[1]]).round(5) == h) == 2:\n",
    "        l = np.array([p1, p2, p3])\n",
    "        boundary_points = l[l[:, 1] == h]\n",
    "\n",
    "    if boundary_points.size:\n",
    "\n",
    "        boundary_points = boundary_points.tolist()\n",
    "        if p2 not in boundary_points:\n",
    "            boundary_points.reverse()\n",
    "\n",
    "        A[points.index(boundary_points[0])][points.index(boundary_points[0])] += Re[0][0]\n",
    "        A[points.index(boundary_points[0])][points.index(boundary_points[1])] += Re[0][1]\n",
    "        A[points.index(boundary_points[1])][points.index(boundary_points[0])] += Re[1][0]\n",
    "        A[points.index(boundary_points[1])][points.index(boundary_points[1])] += Re[1][1]\n",
    "        \n",
    "        F[points.index(boundary_points[0])] += Pe[0]\n",
    "        F[points.index(boundary_points[1])] += Pe[1]   \n",
    "        continue\n",
    "    \n",
    "    groups = [\n",
    "        (p2, p3, _), (p3, p1, _), (p1, p2, _)\n",
    "    ]\n",
    "    \n",
    "    for j, group in enumerate(groups):\n",
    "        t1 = group[0]\n",
    "        t2 = group[1]\n",
    "        \n",
    "        b[i][j] = t2[1] - t1[1]\n",
    "        c[i][j] = t2[0] - t1[0]\n",
    "        \n",
    "    K = K_i(b[i], c[i], s, a11, a22)\n",
    "    fill_A_with_K_i(A, K, tri)\n",
    "    fill_F_with_phi_i(F, tri, Me=Me)\n",
    "\n"
   ]
  },
  {
   "cell_type": "code",
   "execution_count": null,
   "metadata": {},
   "outputs": [],
   "source": [
    "b = LA.solve(A, F)"
   ]
  },
  {
   "cell_type": "code",
   "execution_count": null,
   "metadata": {},
   "outputs": [],
   "source": [
    "ex = [u(*p) for p in points]"
   ]
  },
  {
   "cell_type": "code",
   "execution_count": null,
   "metadata": {},
   "outputs": [],
   "source": [
    "x, y = [l.ravel() for l in np.split(points, [-1], axis=1)]\n",
    "\n",
    "triang = mtri.Triangulation(x, y, triangles)\n",
    "\n",
    "# Interpolate to regularly-spaced quad grid.\n",
    "z = b.ravel()\n",
    "\n",
    "# Set up the figure\n",
    "fig, ax = plt.subplots(figsize=(10,10))\n",
    "\n",
    "plt.xlim(0, h)\n",
    "plt.ylim(0, h)\n",
    "\n",
    "# Plot the triangulation.\n",
    "cp = ax.tricontourf(triang, z)\n",
    "cp.set_clim(np.min(b) + 0.022, np.max(b))\n",
    "fig.colorbar(cp)\n",
    "\n",
    "# ax.triplot(triang, 'ko-')\n",
    "ax.set_title('Triangular grid')\n",
    "\n",
    "\n",
    "fig.tight_layout()\n",
    "plt.show()"
   ]
  },
  {
   "cell_type": "code",
   "execution_count": null,
   "metadata": {},
   "outputs": [],
   "source": [
    "x, y = [l.ravel() for l in np.split(points, [-1], axis=1)]\n",
    "\n",
    "triang = mtri.Triangulation(x, y, triangles)\n",
    "\n",
    "# Interpolate to regularly-spaced quad grid.\n",
    "z = u(x,y)\n",
    "\n",
    "# Set up the figure\n",
    "fig, ax = plt.subplots(figsize=(10,10))\n",
    "\n",
    "plt.xlim(0, h)\n",
    "plt.ylim(0, h)\n",
    "\n",
    "# Plot the triangulation.\n",
    "cp = ax.tricontourf(triang, z)\n",
    "fig.colorbar(cp)\n",
    "ax.set_title('Triangular grid')\n",
    "\n",
    "\n",
    "fig.tight_layout()\n",
    "plt.show()"
   ]
  },
  {
   "cell_type": "code",
   "execution_count": null,
   "metadata": {},
   "outputs": [],
   "source": [
    "def show_success(index):\n",
    "    point_index = int(len(points) * index)\n",
    "\n",
    "    print(\"Exact solution: \\t\", ex[point_index])\n",
    "    print(\"Approximate solution: \\t\", *b[point_index])\n",
    "    print(\"Error: \\t\\t\\t\", np.abs(ex[point_index] - b[point_index][0]))\n",
    "    print()\n"
   ]
  },
  {
   "cell_type": "code",
   "execution_count": null,
   "metadata": {},
   "outputs": [],
   "source": [
    "for coef in [0, 0.1, 0.57, 0.81]:\n",
    "    show_success(coef)"
   ]
  },
  {
   "cell_type": "code",
   "execution_count": null,
   "metadata": {},
   "outputs": [],
   "source": []
  },
  {
   "cell_type": "code",
   "execution_count": null,
   "metadata": {},
   "outputs": [],
   "source": []
  },
  {
   "cell_type": "code",
   "execution_count": null,
   "metadata": {},
   "outputs": [],
   "source": []
  },
  {
   "cell_type": "code",
   "execution_count": null,
   "metadata": {},
   "outputs": [],
   "source": [
    "# mesh = range(len(b))\n",
    "\n",
    "# fig, ax = plt.subplots(figsize=(10,10))\n",
    "# ax.plot(mesh, ex, 'blue')\n",
    "# ax.plot(mesh, b, 'red')"
   ]
  }
 ],
 "metadata": {
  "kernelspec": {
   "display_name": "Python 3",
   "language": "python",
   "name": "python3"
  },
  "language_info": {
   "codemirror_mode": {
    "name": "ipython",
    "version": 3
   },
   "file_extension": ".py",
   "mimetype": "text/x-python",
   "name": "python",
   "nbconvert_exporter": "python",
   "pygments_lexer": "ipython3",
   "version": "3.8.2"
  }
 },
 "nbformat": 4,
 "nbformat_minor": 4
}
